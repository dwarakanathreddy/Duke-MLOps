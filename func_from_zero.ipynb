{
  "nbformat": 4,
  "nbformat_minor": 0,
  "metadata": {
    "colab": {
      "provenance": [],
      "authorship_tag": "ABX9TyNRMUtybqhO8A53Mo4ThHQM",
      "include_colab_link": true
    },
    "kernelspec": {
      "name": "python3",
      "display_name": "Python 3"
    },
    "language_info": {
      "name": "python"
    }
  },
  "cells": [
    {
      "cell_type": "markdown",
      "metadata": {
        "id": "view-in-github",
        "colab_type": "text"
      },
      "source": [
        "<a href=\"https://colab.research.google.com/github/dwarakanathreddy/Duke-MLOps/blob/main/func_from_zero.ipynb\" target=\"_parent\"><img src=\"https://colab.research.google.com/assets/colab-badge.svg\" alt=\"Open In Colab\"/></a>"
      ]
    },
    {
      "cell_type": "markdown",
      "source": [
        "## Learning statements"
      ],
      "metadata": {
        "id": "B4334ab_kCrq"
      }
    },
    {
      "cell_type": "code",
      "source": [
        "print(\"hello world\")"
      ],
      "metadata": {
        "colab": {
          "base_uri": "https://localhost:8080/"
        },
        "id": "F6tlLrYPkHYC",
        "outputId": "ddd56c81-d467-47ed-b5e1-560c669d86c6"
      },
      "execution_count": 1,
      "outputs": [
        {
          "output_type": "stream",
          "name": "stdout",
          "text": [
            "hello world\n"
          ]
        }
      ]
    },
    {
      "cell_type": "markdown",
      "source": [
        "### variables"
      ],
      "metadata": {
        "id": "bH8L6LuBkbIP"
      }
    },
    {
      "cell_type": "code",
      "source": [],
      "metadata": {
        "id": "jIKUZxlNkdwa"
      },
      "execution_count": null,
      "outputs": []
    }
  ]
}