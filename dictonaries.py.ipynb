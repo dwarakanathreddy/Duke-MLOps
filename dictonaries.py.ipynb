{
 "cells": [
  {
   "cell_type": "code",
   "execution_count": 4,
   "id": "9e6b3ae5",
   "metadata": {},
   "outputs": [],
   "source": [
    "demo={\"fruits\":[\"apple\",\"banana\"], \"vegetables\":[\"onion\"]}"
   ]
  },
  {
   "cell_type": "code",
   "execution_count": 5,
   "id": "2013626b",
   "metadata": {},
   "outputs": [
    {
     "data": {
      "text/plain": [
       "dict_keys(['fruits', 'vegetables'])"
      ]
     },
     "execution_count": 5,
     "metadata": {},
     "output_type": "execute_result"
    }
   ],
   "source": [
    "demo.keys()"
   ]
  },
  {
   "cell_type": "code",
   "execution_count": 6,
   "id": "53a225be",
   "metadata": {},
   "outputs": [
    {
     "data": {
      "text/plain": [
       "dict_items([('fruits', ['apple', 'banana']), ('vegetables', ['onion'])])"
      ]
     },
     "execution_count": 6,
     "metadata": {},
     "output_type": "execute_result"
    }
   ],
   "source": [
    "demo.items()"
   ]
  },
  {
   "cell_type": "code",
   "execution_count": 7,
   "id": "19432dac",
   "metadata": {},
   "outputs": [
    {
     "data": {
      "text/plain": [
       "dict_values([['apple', 'banana'], ['onion']])"
      ]
     },
     "execution_count": 7,
     "metadata": {},
     "output_type": "execute_result"
    }
   ],
   "source": [
    "demo.values()"
   ]
  },
  {
   "cell_type": "code",
   "execution_count": 9,
   "id": "96ede620",
   "metadata": {},
   "outputs": [
    {
     "name": "stdout",
     "output_type": "stream",
     "text": [
      "key is fruits\n",
      "values is ['apple', 'banana']\n",
      "key is vegetables\n",
      "values is ['onion']\n"
     ]
    }
   ],
   "source": [
    "for k,v in demo.items():\n",
    "    print(f\"key is {k}\")\n",
    "    print(f\"values is {v}\")"
   ]
  }
 ],
 "metadata": {
  "kernelspec": {
   "display_name": "Python 3 (ipykernel)",
   "language": "python",
   "name": "python3"
  },
  "language_info": {
   "codemirror_mode": {
    "name": "ipython",
    "version": 3
   },
   "file_extension": ".py",
   "mimetype": "text/x-python",
   "name": "python",
   "nbconvert_exporter": "python",
   "pygments_lexer": "ipython3",
   "version": "3.11.3"
  }
 },
 "nbformat": 4,
 "nbformat_minor": 5
}
