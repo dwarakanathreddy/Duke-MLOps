{
 "cells": [
  {
   "cell_type": "code",
   "execution_count": 2,
   "id": "3eaae2ce",
   "metadata": {},
   "outputs": [],
   "source": [
    "class Dog:\n",
    "    \n",
    "    def __init__(self):\n",
    "        self.is_animal=True\n",
    "    \n",
    "    def bark(self):\n",
    "        print(\"woof\")\n",
    "        \n",
    "dog=Dog()"
   ]
  },
  {
   "cell_type": "code",
   "execution_count": 3,
   "id": "ef7445a6",
   "metadata": {},
   "outputs": [
    {
     "name": "stdout",
     "output_type": "stream",
     "text": [
      "woof\n"
     ]
    }
   ],
   "source": [
    "dog.bark()"
   ]
  },
  {
   "cell_type": "code",
   "execution_count": 4,
   "id": "825698a4",
   "metadata": {},
   "outputs": [
    {
     "data": {
      "text/plain": [
       "['__class__',\n",
       " '__delattr__',\n",
       " '__dict__',\n",
       " '__dir__',\n",
       " '__doc__',\n",
       " '__eq__',\n",
       " '__format__',\n",
       " '__ge__',\n",
       " '__getattribute__',\n",
       " '__getstate__',\n",
       " '__gt__',\n",
       " '__hash__',\n",
       " '__init__',\n",
       " '__init_subclass__',\n",
       " '__le__',\n",
       " '__lt__',\n",
       " '__module__',\n",
       " '__ne__',\n",
       " '__new__',\n",
       " '__reduce__',\n",
       " '__reduce_ex__',\n",
       " '__repr__',\n",
       " '__setattr__',\n",
       " '__sizeof__',\n",
       " '__str__',\n",
       " '__subclasshook__',\n",
       " '__weakref__',\n",
       " 'bark']"
      ]
     },
     "execution_count": 4,
     "metadata": {},
     "output_type": "execute_result"
    }
   ],
   "source": [
    "dir(Dog)"
   ]
  },
  {
   "cell_type": "code",
   "execution_count": 8,
   "id": "57564eb4",
   "metadata": {},
   "outputs": [],
   "source": [
    "# inheritance example\n",
    "class Human:\n",
    "    \n",
    "    def fullname(self):\n",
    "        print(self.first_name + \" \" + self.last_name)"
   ]
  },
  {
   "cell_type": "code",
   "execution_count": 9,
   "id": "ce4123dd",
   "metadata": {},
   "outputs": [
    {
     "name": "stdout",
     "output_type": "stream",
     "text": [
      "tori vega\n"
     ]
    }
   ],
   "source": [
    "class Student(Human):\n",
    "    def __init__(self):\n",
    "        self.first_name=\"tori\"\n",
    "        self.last_name=\"vega\"\n",
    "        \n",
    "class Teacher(Human):\n",
    "    def __init__(self):\n",
    "        self.first_name=\"jane\"\n",
    "        self.last_name=\"wyat\"\n",
    "        \n",
    "s=Student()\n",
    "s.fullname()"
   ]
  },
  {
   "cell_type": "code",
   "execution_count": null,
   "id": "429d19eb",
   "metadata": {},
   "outputs": [],
   "source": []
  },
  {
   "cell_type": "code",
   "execution_count": null,
   "id": "e1253518",
   "metadata": {},
   "outputs": [],
   "source": []
  },
  {
   "cell_type": "code",
   "execution_count": null,
   "id": "d6fa4ebf",
   "metadata": {},
   "outputs": [],
   "source": []
  },
  {
   "cell_type": "code",
   "execution_count": null,
   "id": "288fb82f",
   "metadata": {},
   "outputs": [],
   "source": []
  }
 ],
 "metadata": {
  "kernelspec": {
   "display_name": "Python 3 (ipykernel)",
   "language": "python",
   "name": "python3"
  },
  "language_info": {
   "codemirror_mode": {
    "name": "ipython",
    "version": 3
   },
   "file_extension": ".py",
   "mimetype": "text/x-python",
   "name": "python",
   "nbconvert_exporter": "python",
   "pygments_lexer": "ipython3",
   "version": "3.11.3"
  }
 },
 "nbformat": 4,
 "nbformat_minor": 5
}
